{
 "cells": [
  {
   "cell_type": "code",
   "execution_count": 1,
   "id": "b54c03c1",
   "metadata": {},
   "outputs": [],
   "source": [
    "from scipy.cluster.hierarchy import dendrogram"
   ]
  },
  {
   "cell_type": "code",
   "execution_count": 2,
   "id": "e0f73fba",
   "metadata": {},
   "outputs": [],
   "source": [
    "from sklearn.cluster import AgglomerativeClustering"
   ]
  },
  {
   "cell_type": "code",
   "execution_count": 3,
   "id": "07c63e39",
   "metadata": {},
   "outputs": [],
   "source": [
    "from sklearn.datasets import load_iris"
   ]
  },
  {
   "cell_type": "code",
   "execution_count": 4,
   "id": "9df4aba9",
   "metadata": {},
   "outputs": [],
   "source": [
    "import numpy as np\n",
    "from matplotlib import pyplot as plt"
   ]
  },
  {
   "cell_type": "markdown",
   "id": "5fcb8c60",
   "metadata": {},
   "source": [
    "Plot code"
   ]
  },
  {
   "cell_type": "code",
   "execution_count": 5,
   "id": "55e622f0",
   "metadata": {},
   "outputs": [],
   "source": [
    "def plot_dendrogram(model, **kwargs):\n",
    "    # Create linkage matrix and then plot the dendrogram\n",
    "\n",
    "    # create the counts of samples under each node\n",
    "    counts = np.zeros(model.children_.shape[0])\n",
    "    n_samples = len(model.labels_)\n",
    "    for i, merge in enumerate(model.children_):\n",
    "        current_count = 0\n",
    "        for child_idx in merge:\n",
    "            if child_idx < n_samples:\n",
    "                current_count += 1  # leaf node\n",
    "            else:\n",
    "                current_count += counts[child_idx - n_samples]\n",
    "        counts[i] = current_count\n",
    "\n",
    "    linkage_matrix = np.column_stack(\n",
    "        [model.children_, model.distances_, counts]\n",
    "    ).astype(float)\n",
    "\n",
    "    # Plot the corresponding dendrogram\n",
    "    dendrogram(linkage_matrix, **kwargs)"
   ]
  },
  {
   "cell_type": "markdown",
   "id": "6ef5a2a5",
   "metadata": {},
   "source": [
    "Input scale data"
   ]
  },
  {
   "cell_type": "code",
   "execution_count": 6,
   "id": "5bf7ffb5",
   "metadata": {},
   "outputs": [],
   "source": [
    "import pandas as pd\n",
    "\n",
    "da = pd.read_csv('./data_in_example/psdunity.csv', header=None, delim_whitespace=False)\n",
    "dataset = da.values\n",
    "Y = dataset[:,:]"
   ]
  },
  {
   "cell_type": "markdown",
   "id": "b69810c1",
   "metadata": {},
   "source": [
    "Example"
   ]
  },
  {
   "cell_type": "code",
   "execution_count": 28,
   "id": "c01feba1",
   "metadata": {},
   "outputs": [],
   "source": [
    "# setting distance_threshold=0 ensures we compute the full tree.\n",
    "model = AgglomerativeClustering(distance_threshold=0, n_clusters=None, compute_full_tree='auto')\n",
    "\n",
    "model = model.fit(Y[0:80,:])\n",
    "#plt.title(\"Hierarchical Clustering Dendrogram\")\n",
    "\n",
    "# plot the top three levels of the dendrogram\n",
    "plot_dendrogram(model, color_threshold=0.1, truncate_mode=\"level\", p=7)\n",
    "\n",
    "#plt.xlim((100, 300))\n",
    "plt.rc('font',family='Times New Roman')\n",
    "plt.tick_params(labelsize=15)\n",
    "\n",
    "plt.xlim((0, 200))\n",
    "plt.ylim((0, 0.12))\n",
    "plt.xlabel(\"Number of vertical grid layer\", fontsize=15, family='Times New Roman')\n",
    "plt.xticks(fontsize=11)\n",
    "plt.yticks(fontsize=15)\n",
    "#plt.show()\n",
    "\n",
    "plt.savefig('level_psd.png', dpi=200, bbox_inches='tight')\n",
    "plt.close()"
   ]
  },
  {
   "cell_type": "code",
   "execution_count": null,
   "id": "ef771ce1",
   "metadata": {},
   "outputs": [],
   "source": []
  }
 ],
 "metadata": {
  "kernelspec": {
   "display_name": "Python (tf2)",
   "language": "python",
   "name": "tf2"
  },
  "language_info": {
   "codemirror_mode": {
    "name": "ipython",
    "version": 3
   },
   "file_extension": ".py",
   "mimetype": "text/x-python",
   "name": "python",
   "nbconvert_exporter": "python",
   "pygments_lexer": "ipython3",
   "version": "3.7.6"
  }
 },
 "nbformat": 4,
 "nbformat_minor": 5
}
